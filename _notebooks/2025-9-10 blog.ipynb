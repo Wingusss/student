{
 "cells": [
  {
   "cell_type": "markdown",
   "id": "39a6a479",
   "metadata": {},
   "source": [
    "Helloo my name is Yusuf Muzaffer, I would like to expalain the steps I used in order to make the theme change for pages. I had some problems along the way but in the end I was able to make it work."
   ]
  }
 ],
 "metadata": {
  "language_info": {
   "name": "python"
  }
 },
 "nbformat": 4,
 "nbformat_minor": 5
}
