{
 "cells": [
  {
   "cell_type": "markdown",
   "id": "39a6a479",
   "metadata": {},
   "source": [
    "Helloo my name is Yusuf Muzaffer, I would like to expalain the steps I used in order to make the theme change for pages. I had some problems along the way but in the end I was able to make it work."
   ]
  },
  {
   "cell_type": "code",
   "execution_count": null,
   "id": "cfd53b8a",
   "metadata": {
    "vscode": {
     "languageId": "plaintext"
    }
   },
   "outputs": [],
   "source": [
    "make use-cayman"
   ]
  },
  {
   "cell_type": "markdown",
   "id": "ea5ad76c",
   "metadata": {},
   "source": [
    "This code gave a lot of errors. To remove the bad memories causing the errors I had to delete the repository "
   ]
  },
  {
   "cell_type": "code",
   "execution_count": null,
   "id": "54dcd008",
   "metadata": {
    "vscode": {
     "languageId": "plaintext"
    }
   },
   "outputs": [],
   "source": [
    "rm -rf name_of_repo"
   ]
  },
  {
   "cell_type": "markdown",
   "id": "7aa76ec3",
   "metadata": {},
   "source": [
    "After this I re cloned the original repo to have no bad memories"
   ]
  },
  {
   "cell_type": "code",
   "execution_count": null,
   "id": "b68785f9",
   "metadata": {
    "vscode": {
     "languageId": "plaintext"
    }
   },
   "outputs": [],
   "source": [
    "git clone repo_link"
   ]
  },
  {
   "cell_type": "markdown",
   "id": "112def51",
   "metadata": {},
   "source": [
    "After I cloned the repo I ran the make use-cayman again"
   ]
  },
  {
   "cell_type": "markdown",
   "id": "873cbd6a",
   "metadata": {},
   "source": [
    "Now the theme has been changed and now you can open it"
   ]
  },
  {
   "cell_type": "code",
   "execution_count": null,
   "id": "c5128e7d",
   "metadata": {
    "vscode": {
     "languageId": "plaintext"
    }
   },
   "outputs": [],
   "source": [
    "make"
   ]
  }
 ],
 "metadata": {
  "language_info": {
   "name": "python"
  }
 },
 "nbformat": 4,
 "nbformat_minor": 5
}
